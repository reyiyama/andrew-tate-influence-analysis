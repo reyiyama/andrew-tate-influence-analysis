{
 "cells": [
  {
   "cell_type": "code",
   "execution_count": 1,
   "id": "b7b65f0b",
   "metadata": {},
   "outputs": [],
   "source": [
    "%load_ext autoreload\n",
    "%autoreload 1\n",
    "%aimport redditClient\n",
    "%aimport RedditProcessing\n"
   ]
  },
  {
   "cell_type": "markdown",
   "id": "7b4c964a",
   "metadata": {},
   "source": [
    "# Function"
   ]
  },
  {
   "cell_type": "code",
   "execution_count": 2,
   "id": "d6b9122a",
   "metadata": {},
   "outputs": [],
   "source": [
    "def computeSentiment(lTokens, setPosWords, setNegWords):\n",
    "    \"\"\"\n",
    "    Compute the overall sentiment of the list of tokens in lTokens, using the countWordSentimentAnalysis approach.\n",
    "\n",
    "    @param lTokens: List of tokens to calculate the overall sentiment for.\n",
    "    @param setPosWords: Set of positive words.\n",
    "    @param setNegWords: Set of negative words.\n",
    "    \n",
    "    @returns Sentiment score for lTokens.\n",
    "    \"\"\"\n",
    "    # compute the sentiment \n",
    "    # count the number of positive words\n",
    "    posNum = len([tok for tok in lTokens if tok in setPosWords])\n",
    "\n",
    "    # count the number of negative words \n",
    "    negNum = len([tok for tok in lTokens if tok in setNegWords])\n",
    "\n",
    "    # compute the sentiment value\n",
    "    sentiment = posNum - negNum\n",
    "    return sentiment"
   ]
  },
  {
   "cell_type": "code",
   "execution_count": 3,
   "id": "3318a021",
   "metadata": {},
   "outputs": [],
   "source": [
    "def countWordSentimentAnalysis(setPosWords, setNegWords, data):\n",
    "    \"\"\"\n",
    "    Basic sentiment analysis.  Count the number of positive words, count the negative words, overall polarity is the\n",
    "    difference in the two numbers.\n",
    "\n",
    "    @param setPosWords: set of positive sentiment words\n",
    "    @param setNegWords: set of negative sentiment words\n",
    "    @param time: the string contain the key word for time_filter() function\n",
    "    @param subreddit: list of submission (post from reddit)\n",
    "    @param redditProcessor: RedditProcessing object, used to pre-process each tweet.\n",
    "\n",
    "    @returns: list of reddit posts, in the format of [date, sentiment]\n",
    "    \"\"\"\n",
    "    \n",
    "    lSentiment = []\n",
    "    for index, row in data.iterrows():\n",
    "        postText = row['Content']\n",
    "        postDate = row['Date']\n",
    "        # pre-process the reddit post text\n",
    "        lTokens = redditProcessor.process(postText)\n",
    "        # compute sentiment\n",
    "        sentiment = computeSentiment(lTokens, setPosWords, setNegWords)\n",
    "        # save the date and sentiment of each reddit post (used for time series)\n",
    "        lSentiment.append([datetime.strptime(postDate, '%Y-%m-%d %H:%M:%S'), sentiment])\n",
    "\n",
    "    return lSentiment\n"
   ]
  },
  {
   "cell_type": "code",
   "execution_count": 4,
   "id": "dddf66e8",
   "metadata": {},
   "outputs": [],
   "source": [
    "def display_topics(model, featureNames, numTopWords):\n",
    "    \"\"\"\n",
    "    Prints out the most associated words for each feature.\n",
    "\n",
    "    @param model: lda model.\n",
    "    @param featureNames: list of strings, representing the list of features/words.\n",
    "    @param numTopWords: number of words to print per topic.\n",
    "    \"\"\"\n",
    "\n",
    "    # print out the topic distributions\n",
    "    for topicId, lTopicDist in enumerate(model.components_):\n",
    "        print(\"Topic %d:\" % (topicId))\n",
    "        print(\" \".join([featureNames[i] for i in lTopicDist.argsort()[:-numTopWords - 1:-1]]))"
   ]
  },
  {
   "cell_type": "code",
   "execution_count": 5,
   "id": "df54aae1",
   "metadata": {},
   "outputs": [],
   "source": [
    "def displayWordcloud(model, featureNames):\n",
    "    \"\"\"\n",
    "    Displays the word cloud of the topic distributions, stored in model.\n",
    "\n",
    "    @param model: lda model.\n",
    "    @param featureNames: list of strings, representing the list of features/words.\n",
    "    \"\"\"\n",
    "\n",
    "    # this normalises each row/topic to sum to one\n",
    "    # use this normalisedComponents to display your wordclouds\n",
    "    normalisedComponents = model.components_ / model.components_.sum(axis=1)[:, np.newaxis]\n",
    "    \n",
    "    topicNum = len(model.components_)\n",
    "    # number of wordclouds for each row\n",
    "    plotColNum = 3\n",
    "    # number of wordclouds for each column\n",
    "    plotRowNum = int(math.ceil(topicNum / plotColNum))\n",
    "\n",
    "    for topicId, lTopicDist in enumerate(normalisedComponents):\n",
    "        lWordProb = {featureNames[i] : wordProb for i,wordProb in enumerate(lTopicDist)}\n",
    "        wordcloud = WordCloud(background_color='black')\n",
    "        wordcloud.fit_words(frequencies=lWordProb)\n",
    "        plt.subplot(plotRowNum, plotColNum, topicId+1)\n",
    "        plt.title('Topic %d:' % (topicId+1))\n",
    "        plt.imshow(wordcloud, interpolation='bilinear')\n",
    "        plt.axis(\"off\")\n",
    "\n",
    "    plt.show(block=True)"
   ]
  },
  {
   "cell_type": "code",
   "execution_count": 6,
   "id": "6c9d7855",
   "metadata": {},
   "outputs": [],
   "source": [
    "def TopicModeling(posts,topicNum,wordNumToDisplay,featureNum):\n",
    "    '''\n",
    "    @param topicNum: number of topics to discover\n",
    "    @param wordNumToDisplay: maximum number of words to display per topic\n",
    "    @param featureNum: number of features/words to used to describe our documents\n",
    "    \n",
    "    @param tfFeatureNames: name of the features\n",
    "    @param ldaModel: LDA model\n",
    "    '''\n",
    "    # Count Vectorizer\n",
    "    tfVectorizer = CountVectorizer(max_df=0.95, min_df=2, max_features=featureNum, stop_words=lStopwords)\n",
    "    tf = tfVectorizer.fit_transform(posts)\n",
    "    # extract the names of the words\n",
    "    tfFeatureNames = tfVectorizer.get_feature_names_out()\n",
    "\n",
    "    # LDA MODEL\n",
    "    # Run LDA\n",
    "    ldaModel = LatentDirichletAllocation(n_components =topicNum, max_iter=10, learning_method='online').fit(tf)\n",
    "\n",
    "    return ldaModel,tfFeatureNames"
   ]
  },
  {
   "cell_type": "code",
   "execution_count": 7,
   "id": "cadf3d5c",
   "metadata": {},
   "outputs": [],
   "source": [
    "def GensimPreprocess(text):\n",
    "    custom_STOPWORDS = [\"like\", \"lol\", \"http\", \"hes\",\"say\",\"dont\", \"in\", \"youre\",\"im\",\"thats\", \"say\", \"delete\", \"oh\", \"look\",\"si\", \"nu\", \"ca\", \"sa\", \"la\", \"remove\", \"know\", \"didnt\", \"reddit\", \"se\", \"das\", \"hai\",\"romanian\",\"link\", \"comment\", \"need\", \"year\", \"bot\", \"karma\", \"sub\", \"ive\", \"und\",\"der\", \"ich\", \"yes\", \"run\"]\n",
    "    concat_STOPWORDS = set(STOPWORDS).union(custom_STOPWORDS)\n",
    "    #regex filter\n",
    "    text = re.sub(r'http\\S+', '', text)\n",
    "    # Remove special characters (non-words) except for spaces\n",
    "    text = re.sub(r'[^\\w\\s]', '', text)\n",
    "\n",
    "    result = []\n",
    "    lemmatizer = WordNetLemmatizer()  # Initialize the lemmatizer once outside the loop for efficiency\n",
    "    lemmatized_tokens = [lemmatizer.lemmatize(token, pos='v') for token in simple_preprocess(text)]\n",
    "    \n",
    "    # Filter out stop words from lemmatized tokens\n",
    "    result = [token for token in lemmatized_tokens if token not in concat_STOPWORDS]\n",
    "    return result\n"
   ]
  },
  {
   "cell_type": "code",
   "execution_count": 8,
   "id": "53f0691e",
   "metadata": {},
   "outputs": [],
   "source": [
    "def GensimLDA(corpus, num_topics, dictionary, passes, workers):\n",
    "    lda_model = gensim.models.LdaMulticore(corpus, num_topics=num_topics, id2word=dictionary, passes=passes, workers=workers)\n",
    "    topics = lda_model.print_topics(num_words=10)\n",
    "    for topic in topics:\n",
    "        topic_num, topic_terms = topic\n",
    "        # Remove weights and display only terms\n",
    "        terms_only = \" + \".join([word.split('*')[1].strip().strip('\"') for word in topic_terms.split('+')])\n",
    "        print(f\"Topic: {topic_num}\\nWords: {terms_only}\\n\")\n",
    "    return lda_model"
   ]
  },
  {
   "cell_type": "code",
   "execution_count": 9,
   "id": "dd70497b",
   "metadata": {},
   "outputs": [],
   "source": [
    "def get_dominant_topic(doc_bow, lda_model):\n",
    "    \"\"\"Get the dominant topic for a given bag-of-words document.\"\"\"\n",
    "    topic_distribution = lda_model[doc_bow]\n",
    "    # Sorting to get the most probable topic\n",
    "    topic_distribution = sorted(topic_distribution, key=lambda x: x[1], reverse=True)\n",
    "    dominant_topic = topic_distribution[0][0]\n",
    "    return dominant_topic"
   ]
  },
  {
   "cell_type": "code",
   "execution_count": 10,
   "id": "03e12ed1",
   "metadata": {},
   "outputs": [],
   "source": [
    "def describe_topic(lda_model, topic_id, topn=10):\n",
    "    \"\"\"Return the top words for a given topic.\"\"\"\n",
    "    word_ids = [word_id for word_id, prob in lda_model.get_topic_terms(topic_id, topn=topn)]\n",
    "    words = [dictionary[id] for id in word_ids]\n",
    "    return \" \".join(words)"
   ]
  },
  {
   "cell_type": "markdown",
   "id": "f7ef6f3b",
   "metadata": {},
   "source": [
    "# Main"
   ]
  },
  {
   "cell_type": "code",
   "execution_count": 11,
   "id": "98ee4bce",
   "metadata": {},
   "outputs": [
    {
     "name": "stderr",
     "output_type": "stream",
     "text": [
      "[nltk_data] Downloading package stopwords to\n",
      "[nltk_data]     C:\\Users\\Admin\\AppData\\Roaming\\nltk_data...\n",
      "[nltk_data]   Package stopwords is already up-to-date!\n",
      "[nltk_data] Downloading package vader_lexicon to\n",
      "[nltk_data]     C:\\Users\\Admin\\AppData\\Roaming\\nltk_data...\n",
      "[nltk_data]   Package vader_lexicon is already up-to-date!\n"
     ]
    }
   ],
   "source": [
    "import warnings\n",
    "warnings.filterwarnings('ignore') #hide warning \n",
    "\n",
    "import sys\n",
    "import string #stopword punct\n",
    "from collections import Counter # freq counter \n",
    "import codecs # read pos & neg files\n",
    "import re #regular exp\n",
    "import pandas as pd # convert dataframe \n",
    "import pyLDAvis.lda_model # lda model \n",
    "from wordcloud import WordCloud #wordcould visualization\n",
    "from sklearn.feature_extraction.text import CountVectorizer #lda\n",
    "from sklearn.decomposition import LatentDirichletAllocation #lda\n",
    "\n",
    "from datetime import datetime # convert time data to datetime object\n",
    "\n",
    "from redditClient import redditClient # reddit client library\n",
    "import praw # library used for receive reddit post.\n",
    "\n",
    "import numpy as np  #number \n",
    "import math #math calculation for word count sentiment score calculation\n",
    "\n",
    "import matplotlib.pyplot as plt # visualization tools\n",
    "\n",
    "import nltk #stop word/ sentiment analysis / tokenization etc\n",
    "nltk.download('stopwords')\n",
    "from nltk.sentiment.vader import SentimentIntensityAnalyzer\n",
    "nltk.download('vader_lexicon')\n",
    "from nltk.tokenize import TweetTokenizer\n",
    "from nltk.stem import WordNetLemmatizer, SnowballStemmer\n",
    "from nltk.stem.porter import *\n",
    "\n",
    "import networkx as nx\n",
    "\n",
    "#the other preporcessing library we are using\n",
    "from gensim.utils import simple_preprocess\n",
    "from gensim.parsing.preprocessing import STOPWORDS\n",
    "import gensim\n",
    "# we use lda model from gensim library instead\n",
    "from gensim.models.ldamodel import LdaModel\n"
   ]
  },
  {
   "cell_type": "code",
   "execution_count": 12,
   "id": "aff16e91",
   "metadata": {},
   "outputs": [],
   "source": [
    "# set up\n",
    "posWordFile = 'positive-words.txt' # input file of set of postive words\n",
    "negWordFile = 'negative-words.txt' # input file of set of negative words\n",
    "\n",
    "red_data = pd.read_csv(\"Tate_all.csv\")\n",
    "you_data = pd.read_csv(\"Tate_youtube.csv\")"
   ]
  },
  {
   "cell_type": "markdown",
   "id": "a4c98d20",
   "metadata": {},
   "source": [
    "# Topic Modelling"
   ]
  },
  {
   "cell_type": "code",
   "execution_count": 13,
   "id": "f9f92859",
   "metadata": {},
   "outputs": [],
   "source": [
    "#process the content with the gensim preprocess function we defined at the top\n",
    "processed_content = [GensimPreprocess(str(content)) for content in red_data.Content]\n",
    "\n",
    "# Create a dictionary representation of the documents\n",
    "dictionary = gensim.corpora.Dictionary(processed_content)\n",
    "\n",
    "# Create a bag-of-words representation of the documents\n",
    "corpus = [dictionary.doc2bow(doc) for doc in processed_content]\n"
   ]
  },
  {
   "cell_type": "code",
   "execution_count": 14,
   "id": "b4ef73b3",
   "metadata": {},
   "outputs": [],
   "source": [
    "'''\n",
    "# lda_model \n",
    "num_topics = 7\n",
    "passes = 40 # More passes = more accurate, but it can over fit. 40-50 for large datasets\n",
    "workers = 12 # How many processor cores to use\n",
    "lda_model = GensimLDA(corpus, num_topics, dictionary, passes, workers)\n",
    "'''\n",
    "#load the lda model built from the code above\n",
    "lda = LdaModel.load(\"Tate_all.LDA\")"
   ]
  },
  {
   "cell_type": "markdown",
   "id": "5af061d1",
   "metadata": {},
   "source": [
    "# Creating a Dominant Topic Column"
   ]
  },
  {
   "cell_type": "code",
   "execution_count": 15,
   "id": "b3b1a88f",
   "metadata": {},
   "outputs": [
    {
     "ename": "NameError",
     "evalue": "name 'lda_model' is not defined",
     "output_type": "error",
     "traceback": [
      "\u001b[1;31m---------------------------------------------------------------------------\u001b[0m",
      "\u001b[1;31mNameError\u001b[0m                                 Traceback (most recent call last)",
      "\u001b[1;32mc:\\Users\\Admin\\Documents\\Social Media and Analytics\\Assignment2_Luke_Tony_v2.ipynb Cell 19\u001b[0m line \u001b[0;36m2\n\u001b[0;32m      <a href='vscode-notebook-cell:/c%3A/Users/Admin/Documents/Social%20Media%20and%20Analytics/Assignment2_Luke_Tony_v2.ipynb#X24sZmlsZQ%3D%3D?line=0'>1</a>\u001b[0m \u001b[39m# Get the dominant topic for each document\u001b[39;00m\n\u001b[1;32m----> <a href='vscode-notebook-cell:/c%3A/Users/Admin/Documents/Social%20Media%20and%20Analytics/Assignment2_Luke_Tony_v2.ipynb#X24sZmlsZQ%3D%3D?line=1'>2</a>\u001b[0m dominant_topics \u001b[39m=\u001b[39m [get_dominant_topic(doc, lda_model) \u001b[39mfor\u001b[39;49;00m doc \u001b[39min\u001b[39;49;00m corpus]\n\u001b[0;32m      <a href='vscode-notebook-cell:/c%3A/Users/Admin/Documents/Social%20Media%20and%20Analytics/Assignment2_Luke_Tony_v2.ipynb#X24sZmlsZQ%3D%3D?line=3'>4</a>\u001b[0m \u001b[39m# Add dominant topic to the dataframe\u001b[39;00m\n\u001b[0;32m      <a href='vscode-notebook-cell:/c%3A/Users/Admin/Documents/Social%20Media%20and%20Analytics/Assignment2_Luke_Tony_v2.ipynb#X24sZmlsZQ%3D%3D?line=4'>5</a>\u001b[0m red_data[\u001b[39m'\u001b[39m\u001b[39mTopic\u001b[39m\u001b[39m'\u001b[39m] \u001b[39m=\u001b[39m dominant_topics\n",
      "\u001b[1;32mc:\\Users\\Admin\\Documents\\Social Media and Analytics\\Assignment2_Luke_Tony_v2.ipynb Cell 19\u001b[0m line \u001b[0;36m2\n\u001b[0;32m      <a href='vscode-notebook-cell:/c%3A/Users/Admin/Documents/Social%20Media%20and%20Analytics/Assignment2_Luke_Tony_v2.ipynb#X24sZmlsZQ%3D%3D?line=0'>1</a>\u001b[0m \u001b[39m# Get the dominant topic for each document\u001b[39;00m\n\u001b[1;32m----> <a href='vscode-notebook-cell:/c%3A/Users/Admin/Documents/Social%20Media%20and%20Analytics/Assignment2_Luke_Tony_v2.ipynb#X24sZmlsZQ%3D%3D?line=1'>2</a>\u001b[0m dominant_topics \u001b[39m=\u001b[39m [get_dominant_topic(doc, lda_model) \u001b[39mfor\u001b[39;00m doc \u001b[39min\u001b[39;00m corpus]\n\u001b[0;32m      <a href='vscode-notebook-cell:/c%3A/Users/Admin/Documents/Social%20Media%20and%20Analytics/Assignment2_Luke_Tony_v2.ipynb#X24sZmlsZQ%3D%3D?line=3'>4</a>\u001b[0m \u001b[39m# Add dominant topic to the dataframe\u001b[39;00m\n\u001b[0;32m      <a href='vscode-notebook-cell:/c%3A/Users/Admin/Documents/Social%20Media%20and%20Analytics/Assignment2_Luke_Tony_v2.ipynb#X24sZmlsZQ%3D%3D?line=4'>5</a>\u001b[0m red_data[\u001b[39m'\u001b[39m\u001b[39mTopic\u001b[39m\u001b[39m'\u001b[39m] \u001b[39m=\u001b[39m dominant_topics\n",
      "\u001b[1;31mNameError\u001b[0m: name 'lda_model' is not defined"
     ]
    }
   ],
   "source": [
    "# Get the dominant topic for each document\n",
    "dominant_topics = [get_dominant_topic(doc, lda_model) for doc in corpus]\n",
    "\n",
    "# Add dominant topic to the dataframe\n",
    "red_data['Topic'] = dominant_topics"
   ]
  },
  {
   "cell_type": "code",
   "execution_count": null,
   "id": "f6f40f9d",
   "metadata": {},
   "outputs": [
    {
     "data": {
      "text/plain": [
       "\"\\ntopic_descriptions = [describe_topic(lda_model, i) for i in range(num_topics)]\\nred_data['Topic_description'] = [topic_descriptions[i] for i in dominant_topics]\\n\\nred_data.head()\\n\""
      ]
     },
     "execution_count": 18,
     "metadata": {},
     "output_type": "execute_result"
    }
   ],
   "source": [
    "# call a function we built to generate topic description for each topics we got\n",
    "topic_descriptions = [describe_topic(lda_model, i) for i in range(num_topics)]\n",
    "\n",
    "# include the topic description in the \n",
    "red_data['Topic_description'] = [topic_descriptions[i] for i in dominant_topics]\n"
   ]
  },
  {
   "cell_type": "code",
   "execution_count": null,
   "id": "9884f020",
   "metadata": {},
   "outputs": [],
   "source": [
    "#this is where we save the topic and model built above\n",
    "#red_data.to_csv('Tate_all_topic.csv')\n",
    "#lda_model.save(\"Tate_all.LDA\")\n"
   ]
  },
  {
   "cell_type": "markdown",
   "id": "ad1834fc",
   "metadata": {},
   "source": [
    "# Graph Model"
   ]
  },
  {
   "cell_type": "code",
   "execution_count": null,
   "id": "94d322c0",
   "metadata": {},
   "outputs": [
    {
     "data": {
      "text/plain": [
       "\"\\nimport networkx as nx\\n\\nG = nx.DiGraph()\\nedges = [(row['ParentID'], row['ID'], {'weight': row['Upvotes']}) for _, row in red_data.iterrows()]\\nG.add_edges_from(edges)\\n\\nnodes = [(row['ID'], {'Date': row['Date'], 'Topic_description': row['Topic_description']}) for _, row in red_data.iterrows()]\\nG.add_nodes_from(nodes)\\n\""
      ]
     },
     "execution_count": 20,
     "metadata": {},
     "output_type": "execute_result"
    }
   ],
   "source": [
    "#graph model built here\n",
    "G = nx.DiGraph()\n",
    "edges = [(row['ParentID'], row['ID'], {'weight': row['Upvotes']}) for _, row in red_data.iterrows()]\n",
    "G.add_edges_from(edges)\n",
    "\n",
    "nodes = [(row['ID'], {'Date': row['Date'], 'Topic_description': row['Topic_description']}) for _, row in red_data.iterrows()]\n",
    "G.add_nodes_from(nodes)"
   ]
  },
  {
   "cell_type": "code",
   "execution_count": null,
   "id": "7dcc47e4",
   "metadata": {},
   "outputs": [],
   "source": [
    "#save the graph \n",
    "#nx.write_graphml(G, \"Tate_all_topic.graphml\")"
   ]
  },
  {
   "cell_type": "markdown",
   "id": "3380a85e",
   "metadata": {},
   "source": [
    "# data preprocessing"
   ]
  },
  {
   "cell_type": "code",
   "execution_count": null,
   "id": "678e645d",
   "metadata": {},
   "outputs": [],
   "source": [
    "#group the youtube comments data by the video name (considering a single video as a submission for reddit) \n",
    "video_name = you_data['VideoName'].unique()\n",
    "# drop the column that isn't useful \n",
    "#you_data = you_data.drop(columns='Unnamed: 0')\n",
    "\n",
    "#standardize the date data for youtube and reddit so easier for further processing\n",
    "for i, x in enumerate(you_data['Date']):\n",
    "    a = x.split('+')\n",
    "    you_data.at[i, 'Date'] = a[0]"
   ]
  },
  {
   "cell_type": "code",
   "execution_count": null,
   "id": "8806d034",
   "metadata": {},
   "outputs": [
    {
     "data": {
      "text/html": [
       "<div>\n",
       "<style scoped>\n",
       "    .dataframe tbody tr th:only-of-type {\n",
       "        vertical-align: middle;\n",
       "    }\n",
       "\n",
       "    .dataframe tbody tr th {\n",
       "        vertical-align: top;\n",
       "    }\n",
       "\n",
       "    .dataframe thead th {\n",
       "        text-align: right;\n",
       "    }\n",
       "</style>\n",
       "<table border=\"1\" class=\"dataframe\">\n",
       "  <thead>\n",
       "    <tr style=\"text-align: right;\">\n",
       "      <th></th>\n",
       "      <th>Unnamed: 0</th>\n",
       "      <th>ID</th>\n",
       "      <th>ParentID</th>\n",
       "      <th>Type</th>\n",
       "      <th>Content</th>\n",
       "      <th>Upvotes</th>\n",
       "      <th>Date</th>\n",
       "      <th>VideoName</th>\n",
       "    </tr>\n",
       "  </thead>\n",
       "  <tbody>\n",
       "    <tr>\n",
       "      <th>0</th>\n",
       "      <td>0</td>\n",
       "      <td>UgzcO3bVC_-SqlfnIux4AaABAg</td>\n",
       "      <td>tgNGrT3B1ik</td>\n",
       "      <td>comment</td>\n",
       "      <td>This girl is 100% wrong</td>\n",
       "      <td>0</td>\n",
       "      <td>2023-10-04 13:41:28</td>\n",
       "      <td>HEATED Debate: Is Andrew Tate Good For Society?</td>\n",
       "    </tr>\n",
       "    <tr>\n",
       "      <th>1</th>\n",
       "      <td>1</td>\n",
       "      <td>UgyK1FqoMMcyoTnwI3F4AaABAg</td>\n",
       "      <td>tgNGrT3B1ik</td>\n",
       "      <td>comment</td>\n",
       "      <td>Not even Candace Owens couldn’t articulate tho...</td>\n",
       "      <td>0</td>\n",
       "      <td>2023-10-04 13:41:22</td>\n",
       "      <td>HEATED Debate: Is Andrew Tate Good For Society?</td>\n",
       "    </tr>\n",
       "    <tr>\n",
       "      <th>2</th>\n",
       "      <td>2</td>\n",
       "      <td>UgyfqLmMbxkgpmm1NXx4AaABAg</td>\n",
       "      <td>tgNGrT3B1ik</td>\n",
       "      <td>comment</td>\n",
       "      <td>Guys 100% right? She’s totally wrong.</td>\n",
       "      <td>0</td>\n",
       "      <td>2023-10-04 13:41:08</td>\n",
       "      <td>HEATED Debate: Is Andrew Tate Good For Society?</td>\n",
       "    </tr>\n",
       "    <tr>\n",
       "      <th>3</th>\n",
       "      <td>3</td>\n",
       "      <td>Ugw6q4S5KYcIOVJ93pJ4AaABAg</td>\n",
       "      <td>tgNGrT3B1ik</td>\n",
       "      <td>comment</td>\n",
       "      <td>Does she keep this same energy with the Kardas...</td>\n",
       "      <td>0</td>\n",
       "      <td>2023-10-04 13:41:02</td>\n",
       "      <td>HEATED Debate: Is Andrew Tate Good For Society?</td>\n",
       "    </tr>\n",
       "    <tr>\n",
       "      <th>4</th>\n",
       "      <td>4</td>\n",
       "      <td>UgymTqI0qab6pfv1P1l4AaABAg</td>\n",
       "      <td>tgNGrT3B1ik</td>\n",
       "      <td>comment</td>\n",
       "      <td>She’s spot on. Adam had TERRIBLE points and th...</td>\n",
       "      <td>0</td>\n",
       "      <td>2023-10-04 13:40:51</td>\n",
       "      <td>HEATED Debate: Is Andrew Tate Good For Society?</td>\n",
       "    </tr>\n",
       "    <tr>\n",
       "      <th>...</th>\n",
       "      <td>...</td>\n",
       "      <td>...</td>\n",
       "      <td>...</td>\n",
       "      <td>...</td>\n",
       "      <td>...</td>\n",
       "      <td>...</td>\n",
       "      <td>...</td>\n",
       "      <td>...</td>\n",
       "    </tr>\n",
       "    <tr>\n",
       "      <th>403408</th>\n",
       "      <td>403408</td>\n",
       "      <td>UgxbqJLgso1sRnWorbp4AaABAg</td>\n",
       "      <td>L7aYvcwfCTc</td>\n",
       "      <td>comment</td>\n",
       "      <td>Ty habibu</td>\n",
       "      <td>3</td>\n",
       "      <td>2023-09-21 07:08:14</td>\n",
       "      <td>ADIN ROSS AND ANDREW TATE FULL INTERVIEW 09/20...</td>\n",
       "    </tr>\n",
       "    <tr>\n",
       "      <th>403409</th>\n",
       "      <td>403409</td>\n",
       "      <td>UgwcUxEoiOOHOMnqTtV4AaABAg</td>\n",
       "      <td>L7aYvcwfCTc</td>\n",
       "      <td>comment</td>\n",
       "      <td>Thanks man</td>\n",
       "      <td>4</td>\n",
       "      <td>2023-09-21 07:02:01</td>\n",
       "      <td>ADIN ROSS AND ANDREW TATE FULL INTERVIEW 09/20...</td>\n",
       "    </tr>\n",
       "    <tr>\n",
       "      <th>403410</th>\n",
       "      <td>403410</td>\n",
       "      <td>UgzizNOTJMJC9Mih_Zt4AaABAg</td>\n",
       "      <td>L7aYvcwfCTc</td>\n",
       "      <td>comment</td>\n",
       "      <td>Thanksss broo</td>\n",
       "      <td>11</td>\n",
       "      <td>2023-09-21 06:57:26</td>\n",
       "      <td>ADIN ROSS AND ANDREW TATE FULL INTERVIEW 09/20...</td>\n",
       "    </tr>\n",
       "    <tr>\n",
       "      <th>403411</th>\n",
       "      <td>403411</td>\n",
       "      <td>Ugz5X3g-gnk3mNBhOQF4AaABAg</td>\n",
       "      <td>L7aYvcwfCTc</td>\n",
       "      <td>comment</td>\n",
       "      <td>Ur the man</td>\n",
       "      <td>9</td>\n",
       "      <td>2023-09-21 05:56:34</td>\n",
       "      <td>ADIN ROSS AND ANDREW TATE FULL INTERVIEW 09/20...</td>\n",
       "    </tr>\n",
       "    <tr>\n",
       "      <th>403412</th>\n",
       "      <td>403412</td>\n",
       "      <td>UgziNG_9g3GBZItc4Ot4AaABAg</td>\n",
       "      <td>L7aYvcwfCTc</td>\n",
       "      <td>comment</td>\n",
       "      <td>Good!</td>\n",
       "      <td>6</td>\n",
       "      <td>2023-09-21 05:44:59</td>\n",
       "      <td>ADIN ROSS AND ANDREW TATE FULL INTERVIEW 09/20...</td>\n",
       "    </tr>\n",
       "  </tbody>\n",
       "</table>\n",
       "<p>403413 rows × 8 columns</p>\n",
       "</div>"
      ],
      "text/plain": [
       "        Unnamed: 0                          ID     ParentID     Type  \\\n",
       "0                0  UgzcO3bVC_-SqlfnIux4AaABAg  tgNGrT3B1ik  comment   \n",
       "1                1  UgyK1FqoMMcyoTnwI3F4AaABAg  tgNGrT3B1ik  comment   \n",
       "2                2  UgyfqLmMbxkgpmm1NXx4AaABAg  tgNGrT3B1ik  comment   \n",
       "3                3  Ugw6q4S5KYcIOVJ93pJ4AaABAg  tgNGrT3B1ik  comment   \n",
       "4                4  UgymTqI0qab6pfv1P1l4AaABAg  tgNGrT3B1ik  comment   \n",
       "...            ...                         ...          ...      ...   \n",
       "403408      403408  UgxbqJLgso1sRnWorbp4AaABAg  L7aYvcwfCTc  comment   \n",
       "403409      403409  UgwcUxEoiOOHOMnqTtV4AaABAg  L7aYvcwfCTc  comment   \n",
       "403410      403410  UgzizNOTJMJC9Mih_Zt4AaABAg  L7aYvcwfCTc  comment   \n",
       "403411      403411  Ugz5X3g-gnk3mNBhOQF4AaABAg  L7aYvcwfCTc  comment   \n",
       "403412      403412  UgziNG_9g3GBZItc4Ot4AaABAg  L7aYvcwfCTc  comment   \n",
       "\n",
       "                                                  Content  Upvotes  \\\n",
       "0                                 This girl is 100% wrong        0   \n",
       "1       Not even Candace Owens couldn’t articulate tho...        0   \n",
       "2                   Guys 100% right? She’s totally wrong.        0   \n",
       "3       Does she keep this same energy with the Kardas...        0   \n",
       "4       She’s spot on. Adam had TERRIBLE points and th...        0   \n",
       "...                                                   ...      ...   \n",
       "403408                                          Ty habibu        3   \n",
       "403409                                         Thanks man        4   \n",
       "403410                                      Thanksss broo       11   \n",
       "403411                                         Ur the man        9   \n",
       "403412                                              Good!        6   \n",
       "\n",
       "                       Date                                          VideoName  \n",
       "0       2023-10-04 13:41:28    HEATED Debate: Is Andrew Tate Good For Society?  \n",
       "1       2023-10-04 13:41:22    HEATED Debate: Is Andrew Tate Good For Society?  \n",
       "2       2023-10-04 13:41:08    HEATED Debate: Is Andrew Tate Good For Society?  \n",
       "3       2023-10-04 13:41:02    HEATED Debate: Is Andrew Tate Good For Society?  \n",
       "4       2023-10-04 13:40:51    HEATED Debate: Is Andrew Tate Good For Society?  \n",
       "...                     ...                                                ...  \n",
       "403408  2023-09-21 07:08:14  ADIN ROSS AND ANDREW TATE FULL INTERVIEW 09/20...  \n",
       "403409  2023-09-21 07:02:01  ADIN ROSS AND ANDREW TATE FULL INTERVIEW 09/20...  \n",
       "403410  2023-09-21 06:57:26  ADIN ROSS AND ANDREW TATE FULL INTERVIEW 09/20...  \n",
       "403411  2023-09-21 05:56:34  ADIN ROSS AND ANDREW TATE FULL INTERVIEW 09/20...  \n",
       "403412  2023-09-21 05:44:59  ADIN ROSS AND ANDREW TATE FULL INTERVIEW 09/20...  \n",
       "\n",
       "[403413 rows x 8 columns]"
      ]
     },
     "execution_count": 23,
     "metadata": {},
     "output_type": "execute_result"
    }
   ],
   "source": [
    "you_data"
   ]
  },
  {
   "cell_type": "code",
   "execution_count": null,
   "id": "64dc052e",
   "metadata": {},
   "outputs": [],
   "source": [
    "#group the youtube data basedo on the video name\n",
    "data_y=[]\n",
    "for name in video_name:\n",
    "    comments= you_data[you_data['VideoName']==name]\n",
    "    data_y.append(comments)"
   ]
  },
  {
   "cell_type": "code",
   "execution_count": null,
   "id": "c8d49e4e",
   "metadata": {},
   "outputs": [
    {
     "data": {
      "text/html": [
       "<div>\n",
       "<style scoped>\n",
       "    .dataframe tbody tr th:only-of-type {\n",
       "        vertical-align: middle;\n",
       "    }\n",
       "\n",
       "    .dataframe tbody tr th {\n",
       "        vertical-align: top;\n",
       "    }\n",
       "\n",
       "    .dataframe thead th {\n",
       "        text-align: right;\n",
       "    }\n",
       "</style>\n",
       "<table border=\"1\" class=\"dataframe\">\n",
       "  <thead>\n",
       "    <tr style=\"text-align: right;\">\n",
       "      <th></th>\n",
       "      <th>Unnamed: 0</th>\n",
       "      <th>ID</th>\n",
       "      <th>ParentID</th>\n",
       "      <th>Type</th>\n",
       "      <th>Content</th>\n",
       "      <th>Upvotes</th>\n",
       "      <th>Date</th>\n",
       "      <th>VideoName</th>\n",
       "    </tr>\n",
       "  </thead>\n",
       "  <tbody>\n",
       "    <tr>\n",
       "      <th>0</th>\n",
       "      <td>0</td>\n",
       "      <td>UgzcO3bVC_-SqlfnIux4AaABAg</td>\n",
       "      <td>tgNGrT3B1ik</td>\n",
       "      <td>comment</td>\n",
       "      <td>This girl is 100% wrong</td>\n",
       "      <td>0</td>\n",
       "      <td>2023-10-04 13:41:28</td>\n",
       "      <td>HEATED Debate: Is Andrew Tate Good For Society?</td>\n",
       "    </tr>\n",
       "    <tr>\n",
       "      <th>1</th>\n",
       "      <td>1</td>\n",
       "      <td>UgyK1FqoMMcyoTnwI3F4AaABAg</td>\n",
       "      <td>tgNGrT3B1ik</td>\n",
       "      <td>comment</td>\n",
       "      <td>Not even Candace Owens couldn’t articulate tho...</td>\n",
       "      <td>0</td>\n",
       "      <td>2023-10-04 13:41:22</td>\n",
       "      <td>HEATED Debate: Is Andrew Tate Good For Society?</td>\n",
       "    </tr>\n",
       "    <tr>\n",
       "      <th>2</th>\n",
       "      <td>2</td>\n",
       "      <td>UgyfqLmMbxkgpmm1NXx4AaABAg</td>\n",
       "      <td>tgNGrT3B1ik</td>\n",
       "      <td>comment</td>\n",
       "      <td>Guys 100% right? She’s totally wrong.</td>\n",
       "      <td>0</td>\n",
       "      <td>2023-10-04 13:41:08</td>\n",
       "      <td>HEATED Debate: Is Andrew Tate Good For Society?</td>\n",
       "    </tr>\n",
       "    <tr>\n",
       "      <th>3</th>\n",
       "      <td>3</td>\n",
       "      <td>Ugw6q4S5KYcIOVJ93pJ4AaABAg</td>\n",
       "      <td>tgNGrT3B1ik</td>\n",
       "      <td>comment</td>\n",
       "      <td>Does she keep this same energy with the Kardas...</td>\n",
       "      <td>0</td>\n",
       "      <td>2023-10-04 13:41:02</td>\n",
       "      <td>HEATED Debate: Is Andrew Tate Good For Society?</td>\n",
       "    </tr>\n",
       "    <tr>\n",
       "      <th>4</th>\n",
       "      <td>4</td>\n",
       "      <td>UgymTqI0qab6pfv1P1l4AaABAg</td>\n",
       "      <td>tgNGrT3B1ik</td>\n",
       "      <td>comment</td>\n",
       "      <td>She’s spot on. Adam had TERRIBLE points and th...</td>\n",
       "      <td>0</td>\n",
       "      <td>2023-10-04 13:40:51</td>\n",
       "      <td>HEATED Debate: Is Andrew Tate Good For Society?</td>\n",
       "    </tr>\n",
       "    <tr>\n",
       "      <th>...</th>\n",
       "      <td>...</td>\n",
       "      <td>...</td>\n",
       "      <td>...</td>\n",
       "      <td>...</td>\n",
       "      <td>...</td>\n",
       "      <td>...</td>\n",
       "      <td>...</td>\n",
       "      <td>...</td>\n",
       "    </tr>\n",
       "    <tr>\n",
       "      <th>4711</th>\n",
       "      <td>4711</td>\n",
       "      <td>UgwD7ldDZyU_gTieLOx4AaABAg</td>\n",
       "      <td>tgNGrT3B1ik</td>\n",
       "      <td>comment</td>\n",
       "      <td>old tate, definitely bad, new tate, i think good.</td>\n",
       "      <td>9</td>\n",
       "      <td>2023-10-04 00:51:20</td>\n",
       "      <td>HEATED Debate: Is Andrew Tate Good For Society?</td>\n",
       "    </tr>\n",
       "    <tr>\n",
       "      <th>4712</th>\n",
       "      <td>4712</td>\n",
       "      <td>UgwD7ldDZyU_gTieLOx4AaABAg.9vQmTzXMcrM9vQq0exS3F2</td>\n",
       "      <td>UgwD7ldDZyU_gTieLOx4AaABAg</td>\n",
       "      <td>reply</td>\n",
       "      <td>@Johnnielegslikessoggybreadwithchese LOL you t...</td>\n",
       "      <td>0</td>\n",
       "      <td>2023-10-04 01:22:17</td>\n",
       "      <td>HEATED Debate: Is Andrew Tate Good For Society?</td>\n",
       "    </tr>\n",
       "    <tr>\n",
       "      <th>4713</th>\n",
       "      <td>4713</td>\n",
       "      <td>UgwD7ldDZyU_gTieLOx4AaABAg.9vQmTzXMcrM9vQnRR3Jjln</td>\n",
       "      <td>UgwD7ldDZyU_gTieLOx4AaABAg</td>\n",
       "      <td>reply</td>\n",
       "      <td>@Nihar Patelgame ain’t free you gotta pay if y...</td>\n",
       "      <td>0</td>\n",
       "      <td>2023-10-04 00:59:43</td>\n",
       "      <td>HEATED Debate: Is Andrew Tate Good For Society?</td>\n",
       "    </tr>\n",
       "    <tr>\n",
       "      <th>4714</th>\n",
       "      <td>4714</td>\n",
       "      <td>UgwD7ldDZyU_gTieLOx4AaABAg.9vQmTzXMcrM9vQnEIQPPuJ</td>\n",
       "      <td>UgwD7ldDZyU_gTieLOx4AaABAg</td>\n",
       "      <td>reply</td>\n",
       "      <td>Finally someone with a brain</td>\n",
       "      <td>0</td>\n",
       "      <td>2023-10-04 00:57:55</td>\n",
       "      <td>HEATED Debate: Is Andrew Tate Good For Society?</td>\n",
       "    </tr>\n",
       "    <tr>\n",
       "      <th>4715</th>\n",
       "      <td>4715</td>\n",
       "      <td>UgwD7ldDZyU_gTieLOx4AaABAg.9vQmTzXMcrM9vQn6fHMxAQ</td>\n",
       "      <td>UgwD7ldDZyU_gTieLOx4AaABAg</td>\n",
       "      <td>reply</td>\n",
       "      <td>Naah Stop making excuses. They are still the s...</td>\n",
       "      <td>1</td>\n",
       "      <td>2023-10-04 00:56:53</td>\n",
       "      <td>HEATED Debate: Is Andrew Tate Good For Society?</td>\n",
       "    </tr>\n",
       "  </tbody>\n",
       "</table>\n",
       "<p>4716 rows × 8 columns</p>\n",
       "</div>"
      ],
      "text/plain": [
       "      Unnamed: 0                                                 ID  \\\n",
       "0              0                         UgzcO3bVC_-SqlfnIux4AaABAg   \n",
       "1              1                         UgyK1FqoMMcyoTnwI3F4AaABAg   \n",
       "2              2                         UgyfqLmMbxkgpmm1NXx4AaABAg   \n",
       "3              3                         Ugw6q4S5KYcIOVJ93pJ4AaABAg   \n",
       "4              4                         UgymTqI0qab6pfv1P1l4AaABAg   \n",
       "...          ...                                                ...   \n",
       "4711        4711                         UgwD7ldDZyU_gTieLOx4AaABAg   \n",
       "4712        4712  UgwD7ldDZyU_gTieLOx4AaABAg.9vQmTzXMcrM9vQq0exS3F2   \n",
       "4713        4713  UgwD7ldDZyU_gTieLOx4AaABAg.9vQmTzXMcrM9vQnRR3Jjln   \n",
       "4714        4714  UgwD7ldDZyU_gTieLOx4AaABAg.9vQmTzXMcrM9vQnEIQPPuJ   \n",
       "4715        4715  UgwD7ldDZyU_gTieLOx4AaABAg.9vQmTzXMcrM9vQn6fHMxAQ   \n",
       "\n",
       "                        ParentID     Type  \\\n",
       "0                    tgNGrT3B1ik  comment   \n",
       "1                    tgNGrT3B1ik  comment   \n",
       "2                    tgNGrT3B1ik  comment   \n",
       "3                    tgNGrT3B1ik  comment   \n",
       "4                    tgNGrT3B1ik  comment   \n",
       "...                          ...      ...   \n",
       "4711                 tgNGrT3B1ik  comment   \n",
       "4712  UgwD7ldDZyU_gTieLOx4AaABAg    reply   \n",
       "4713  UgwD7ldDZyU_gTieLOx4AaABAg    reply   \n",
       "4714  UgwD7ldDZyU_gTieLOx4AaABAg    reply   \n",
       "4715  UgwD7ldDZyU_gTieLOx4AaABAg    reply   \n",
       "\n",
       "                                                Content  Upvotes  \\\n",
       "0                               This girl is 100% wrong        0   \n",
       "1     Not even Candace Owens couldn’t articulate tho...        0   \n",
       "2                 Guys 100% right? She’s totally wrong.        0   \n",
       "3     Does she keep this same energy with the Kardas...        0   \n",
       "4     She’s spot on. Adam had TERRIBLE points and th...        0   \n",
       "...                                                 ...      ...   \n",
       "4711  old tate, definitely bad, new tate, i think good.        9   \n",
       "4712  @Johnnielegslikessoggybreadwithchese LOL you t...        0   \n",
       "4713  @Nihar Patelgame ain’t free you gotta pay if y...        0   \n",
       "4714                       Finally someone with a brain        0   \n",
       "4715  Naah Stop making excuses. They are still the s...        1   \n",
       "\n",
       "                     Date                                        VideoName  \n",
       "0     2023-10-04 13:41:28  HEATED Debate: Is Andrew Tate Good For Society?  \n",
       "1     2023-10-04 13:41:22  HEATED Debate: Is Andrew Tate Good For Society?  \n",
       "2     2023-10-04 13:41:08  HEATED Debate: Is Andrew Tate Good For Society?  \n",
       "3     2023-10-04 13:41:02  HEATED Debate: Is Andrew Tate Good For Society?  \n",
       "4     2023-10-04 13:40:51  HEATED Debate: Is Andrew Tate Good For Society?  \n",
       "...                   ...                                              ...  \n",
       "4711  2023-10-04 00:51:20  HEATED Debate: Is Andrew Tate Good For Society?  \n",
       "4712  2023-10-04 01:22:17  HEATED Debate: Is Andrew Tate Good For Society?  \n",
       "4713  2023-10-04 00:59:43  HEATED Debate: Is Andrew Tate Good For Society?  \n",
       "4714  2023-10-04 00:57:55  HEATED Debate: Is Andrew Tate Good For Society?  \n",
       "4715  2023-10-04 00:56:53  HEATED Debate: Is Andrew Tate Good For Society?  \n",
       "\n",
       "[4716 rows x 8 columns]"
      ]
     },
     "execution_count": 25,
     "metadata": {},
     "output_type": "execute_result"
    }
   ],
   "source": [
    "data_y[0]"
   ]
  },
  {
   "cell_type": "code",
   "execution_count": null,
   "id": "568ec508",
   "metadata": {},
   "outputs": [],
   "source": [
    "# text processing (tokenization, filtering, stemming)\n",
    "tweetTokeniser = nltk.tokenize.TweetTokenizer()\n",
    "# use the punctuation symbols defined in string.punctuation\n",
    "# use stopwords from nltk and a few other twitter specific terms and emotiocons.\n",
    "# we use the popular Porter stemmer\n",
    "lPunct = list(string.punctuation)\n",
    "custom_STOPWORDS = [\"like\", \"lol\", \"http\", \"hes\",\"say\",\"dont\", \"in\", \"youre\",\"im\",\"thats\", \"say\", \"delete\", \"oh\", \"look\",\"si\", \"nu\", \"ca\", \"sa\", \"la\", \"remove\", \"know\", \"didnt\", \"reddit\", \"se\", \"das\", \"hai\",\"romanian\",\"link\", \"comment\", \"need\", \"year\", \"bot\", \"karma\", \"sub\", \"ive\", \"und\",\"der\", \"ich\", \"yes\", \"run\"]\n",
    "lStopwords = nltk.corpus.stopwords.words('english') + lPunct +  ['lol','wa','hi','<br>','⚡','ani','via',\"it'\",\"i'm\",\"becaus\",'thi','ha','defi','whi','...','','’','‘','.','—','</a>','<a>','']\n",
    "fnl_stopwords = custom_STOPWORDS+lStopwords\n",
    "tweetStemmer = nltk.stem.PorterStemmer()\n",
    "\n",
    "# call the RedditProcessing python script\n",
    "redditProcessor = RedditProcessing.RedditProcessing(tweetTokeniser,tweetStemmer,fnl_stopwords)\n",
    "\n",
    "# load set of positive and negative words\n",
    "lPosWords = []\n",
    "lNegWords = []\n",
    "\n",
    "with open(posWordFile, 'r', encoding='utf-8', errors='ignore') as fPos:\n",
    "    for sLine in fPos:\n",
    "        lPosWords.append(sLine.strip())\n",
    "setPosWords = set(lPosWords)\n",
    "\n",
    "with codecs.open(negWordFile, 'r', encoding='utf-8', errors='ignore') as fNeg:\n",
    "    for sLine in fNeg:\n",
    "        lNegWords.append(sLine.strip())\n",
    "\n",
    "setNegWords = set(lNegWords)\n"
   ]
  },
  {
   "cell_type": "markdown",
   "id": "bd6fef02",
   "metadata": {},
   "source": [
    "## Reddit Data"
   ]
  },
  {
   "cell_type": "code",
   "execution_count": null,
   "id": "83a4fcc6",
   "metadata": {},
   "outputs": [
    {
     "data": {
      "text/plain": [
       "(350410, 6)"
      ]
     },
     "execution_count": 27,
     "metadata": {},
     "output_type": "execute_result"
    }
   ],
   "source": [
    "red_data.head()\n",
    "red_data.shape"
   ]
  },
  {
   "cell_type": "code",
   "execution_count": null,
   "id": "cb24e75c",
   "metadata": {},
   "outputs": [],
   "source": [
    "#text and sentiment analysis for reddit data\n",
    "red_termFreqCounter = Counter()\n",
    "lPosts = []\n",
    "\n",
    "for i, x in enumerate(red_data['Content']):\n",
    "    # Check if the content is not a string\n",
    "    if not isinstance(x, str):\n",
    "        # Convert to string or skip depending on your preference\n",
    "        x = str(x)\n",
    "\n",
    "    token = redditProcessor.process(x)\n",
    "    red_termFreqCounter.update(token)\n",
    "    \n",
    "    sentiment_score = computeSentiment(token, setPosWords, setNegWords)\n",
    "    if sentiment_score > 0:\n",
    "        red_data.at[i, 'Sentiment'] = 'Positive'\n",
    "    elif sentiment_score < 0:\n",
    "        red_data.at[i, 'Sentiment'] = 'Negative'\n",
    "    else:\n",
    "        red_data.at[i, 'Sentiment'] = 'Neutral'\n",
    "        \n",
    "    lPosts.append(' '.join(token))\n"
   ]
  },
  {
   "cell_type": "code",
   "execution_count": null,
   "id": "ed3307b0",
   "metadata": {},
   "outputs": [
    {
     "data": {
      "text/plain": [
       "(350410, 7)"
      ]
     },
     "execution_count": 29,
     "metadata": {},
     "output_type": "execute_result"
    }
   ],
   "source": [
    "red_data.shape"
   ]
  },
  {
   "cell_type": "code",
   "execution_count": null,
   "id": "9ffffe4c",
   "metadata": {},
   "outputs": [
    {
     "data": {
      "image/png": "[encoded data removed]",
      "text/plain": [
       "<Figure size 640x480 with 1 Axes>"
      ]
     },
     "metadata": {},
     "output_type": "display_data"
    }
   ],
   "source": [
    "# construct the x and y values\n",
    "y = [count for tag, count in red_termFreqCounter.most_common(30)]\n",
    "x = [tag for tag, count in red_termFreqCounter.most_common(30)]\n",
    "#x = range(1, len(y) + 1)\n",
    "\n",
    "# use matplotlib bar chat to plot this\n",
    "plt.bar(x, y)\n",
    "plt.title(\"Top 30 of Term frequency distribution for Reddit comments\")\n",
    "plt.ylabel('# of words with term frequency')\n",
    "plt.xlabel('Term frequency')\n",
    "plt.xticks(rotation=45, ha='right')\n",
    "plt.show()"
   ]
  },
  {
   "cell_type": "markdown",
   "id": "a8592b27",
   "metadata": {},
   "source": [
    "# sentiment analysis"
   ]
  },
  {
   "cell_type": "code",
   "execution_count": null,
   "id": "ca0d1c9b",
   "metadata": {},
   "outputs": [],
   "source": [
    "#count word sentiment\n",
    "cSentiment = []\n",
    "cSentiment = countWordSentimentAnalysis(setPosWords, setNegWords, red_data)"
   ]
  },
  {
   "cell_type": "code",
   "execution_count": null,
   "id": "b43788a3",
   "metadata": {},
   "outputs": [
    {
     "data": {
      "image/png": "[encoded data removed]",
      "text/plain": [
       "<Figure size 640x480 with 1 Axes>"
      ]
     },
     "metadata": {},
     "output_type": "display_data"
    }
   ],
   "source": [
    "# timeseries part\n",
    "series = pd.DataFrame(cSentiment, columns=['date', 'sentiment'])\n",
    "series.set_index('date', inplace=True)\n",
    "series[['sentiment']] = series[['sentiment']].apply(pd.to_numeric)\n",
    "newSeries = series.resample('1H').sum()\n",
    "#Overall Sentiment Time series Plot for Reddit User\n",
    "newSeries.plot()\n",
    "plt.show()"
   ]
  },
  {
   "cell_type": "code",
   "execution_count": null,
   "id": "02b1450c",
   "metadata": {},
   "outputs": [
    {
     "name": "stdout",
     "output_type": "stream",
     "text": [
      "61608 116702 172100\n"
     ]
    }
   ],
   "source": [
    "# get the count of the each sentiment for basic word count sentiment\n",
    "posCount=0\n",
    "negCount=0\n",
    "neuCount=0\n",
    "\n",
    "for date,score in cSentiment:\n",
    "    if score >0:\n",
    "        posCount+=1\n",
    "    elif score<0:\n",
    "        negCount+=1\n",
    "    else:\n",
    "        neuCount+=1\n",
    "        \n",
    "print(posCount,negCount,neuCount)"
   ]
  },
  {
   "cell_type": "code",
   "execution_count": null,
   "id": "933d0b0f",
   "metadata": {},
   "outputs": [
    {
     "data": {
      "image/png": "[encoded data removed]",
      "text/plain": [
       "<Figure size 300x300 with 1 Axes>"
      ]
     },
     "metadata": {},
     "output_type": "display_data"
    }
   ],
   "source": [
    "# pie chart for overall sentiment \n",
    "categories = ['Positive', 'negative', 'Neural']\n",
    "values = [posCount,negCount,neuCount]\n",
    "\n",
    "plt.figure(figsize=(3, 3))\n",
    "plt.pie(values, labels=categories, autopct='%1.1f%%', startangle=140)\n",
    "plt.title('Overall Sentiment segments for Reddit User')\n",
    "plt.axis('equal')\n",
    "\n",
    "plt.show()"
   ]
  },
  {
   "cell_type": "markdown",
   "id": "7907b457",
   "metadata": {},
   "source": [
    "## Youtube Data"
   ]
  },
  {
   "cell_type": "code",
   "execution_count": null,
   "id": "8dd40508",
   "metadata": {},
   "outputs": [
    {
     "data": {
      "text/plain": [
       "(350410, 7)"
      ]
     },
     "execution_count": 35,
     "metadata": {},
     "output_type": "execute_result"
    }
   ],
   "source": [
    "red_data.shape"
   ]
  },
  {
   "cell_type": "code",
   "execution_count": null,
   "id": "611c4215",
   "metadata": {},
   "outputs": [
    {
     "data": {
      "text/plain": [
       "(403413, 8)"
      ]
     },
     "execution_count": 36,
     "metadata": {},
     "output_type": "execute_result"
    }
   ],
   "source": [
    "you_data.shape"
   ]
  },
  {
   "cell_type": "code",
   "execution_count": null,
   "id": "0c18328d",
   "metadata": {},
   "outputs": [],
   "source": [
    "#text and sentiment analysis for youtube data\n",
    "you_termFreqCounter = Counter()\n",
    "lPosts = []\n",
    "\n",
    "for i, x in enumerate(you_data['Content']):\n",
    "    # Check if the content is not a string\n",
    "    if not isinstance(x, str):\n",
    "        # Convert to string or skip depending on your preference\n",
    "        x = str(x)\n",
    "\n",
    "    token = redditProcessor.process(x)\n",
    "    you_termFreqCounter.update(token)\n",
    "    sentiment_score = computeSentiment(token, setPosWords, setNegWords)        \n",
    "    lPosts.append(' '.join(token))\n"
   ]
  },
  {
   "cell_type": "code",
   "execution_count": null,
   "id": "a41b2c9b",
   "metadata": {},
   "outputs": [
    {
     "data": {
      "image/png": "[encoded data removed]",
      "text/plain": [
       "<Figure size 640x480 with 1 Axes>"
      ]
     },
     "metadata": {},
     "output_type": "display_data"
    }
   ],
   "source": [
    "# construct the x and y values\n",
    "y = [count for tag, count in you_termFreqCounter.most_common(30)]\n",
    "x = [tag for tag, count in you_termFreqCounter.most_common(30)]\n",
    "#x = range(1, len(y) + 1)\n",
    "\n",
    "# use matplotlib bar chat to plot this\n",
    "plt.bar(x, y)\n",
    "plt.title(\"Top 30 of Term frequency distribution for Youtube comments\")\n",
    "plt.ylabel('# of words with term frequency')\n",
    "plt.xlabel('Term frequency')\n",
    "plt.xticks(rotation=45, ha='right')\n",
    "plt.show()"
   ]
  },
  {
   "cell_type": "code",
   "execution_count": null,
   "id": "5ee8a413",
   "metadata": {},
   "outputs": [],
   "source": [
    "#count word sentiment\n",
    "cySentiment = []\n",
    "cySentiment = countWordSentimentAnalysis(setPosWords, setNegWords, you_data)"
   ]
  },
  {
   "cell_type": "code",
   "execution_count": null,
   "id": "3927f34a",
   "metadata": {},
   "outputs": [
    {
     "data": {
      "image/png": "[encoded data removed]",
      "text/plain": [
       "<Figure size 640x480 with 1 Axes>"
      ]
     },
     "metadata": {},
     "output_type": "display_data"
    }
   ],
   "source": [
    "# timeseries part\n",
    "series = pd.DataFrame(cySentiment, columns=['date', 'sentiment'])\n",
    "series.set_index('date', inplace=True)\n",
    "series[['sentiment']] = series[['sentiment']].apply(pd.to_numeric)\n",
    "newSeries = series.resample('1H').sum()\n",
    "#Overall Sentiment Time series Plot for Reddit User\n",
    "newSeries.plot()\n",
    "plt.show()"
   ]
  },
  {
   "cell_type": "code",
   "execution_count": null,
   "id": "2540e1ab",
   "metadata": {},
   "outputs": [
    {
     "name": "stdout",
     "output_type": "stream",
     "text": [
      "94360 100936 208117\n"
     ]
    }
   ],
   "source": [
    "# get the count of the each sentiment for basic word count sentiment\n",
    "yposCount=0\n",
    "ynegCount=0\n",
    "yneuCount=0\n",
    "\n",
    "for date,score in cySentiment:\n",
    "    if score >0:\n",
    "        yposCount+=1\n",
    "    elif score<0:\n",
    "        ynegCount+=1\n",
    "    else:\n",
    "        yneuCount+=1\n",
    "        \n",
    "print(yposCount,ynegCount,yneuCount)"
   ]
  },
  {
   "cell_type": "code",
   "execution_count": null,
   "id": "a86c9eb2",
   "metadata": {},
   "outputs": [
    {
     "data": {
      "image/png": "[encoded data removed]",
      "text/plain": [
       "<Figure size 300x300 with 1 Axes>"
      ]
     },
     "metadata": {},
     "output_type": "display_data"
    }
   ],
   "source": [
    "# pie chart for overall sentiment \n",
    "values = [yposCount,ynegCount,yneuCount]\n",
    "\n",
    "plt.figure(figsize=(3, 3))\n",
    "plt.pie(values, labels=categories, autopct='%1.1f%%', startangle=140)\n",
    "plt.title('Overall Sentiment segments for Youtube User')\n",
    "plt.axis('equal')\n",
    "\n",
    "plt.show()"
   ]
  },
  {
   "cell_type": "markdown",
   "id": "6c6ceacf",
   "metadata": {},
   "source": [
    "# Topic modeling - Modified"
   ]
  },
  {
   "cell_type": "code",
   "execution_count": null,
   "id": "6c45673f",
   "metadata": {},
   "outputs": [],
   "source": [
    "# LDA parameters\n",
    "# number of topics to discover (default = 10)\n",
    "topicNum = 5\n",
    "# maximum number of words to display per topic (default = 10)\n",
    "wordNumToDisplay = 15\n",
    "# this is the number of features/words to used to describe our documents\n",
    "featureNum = 2000"
   ]
  },
  {
   "cell_type": "code",
   "execution_count": null,
   "id": "c1e061c5",
   "metadata": {},
   "outputs": [],
   "source": [
    "#general word cloud for positive sentiment analysis\n",
    "# lda, tfname =TopicModeling(lPosts,topicNum,wordNumToDisplay,featureNum)\n",
    "display_topics(lda, tfname, wordNumToDisplay)\n",
    "displayWordcloud(lda, tfname)"
   ]
  },
  {
   "cell_type": "code",
   "execution_count": null,
   "id": "98230a89",
   "metadata": {},
   "outputs": [],
   "source": []
  }
 ],
 "metadata": {
  "kernelspec": {
   "display_name": "Python 3 (ipykernel)",
   "language": "python",
   "name": "python3"
  },
  "language_info": {
   "codemirror_mode": {
    "name": "ipython",
    "version": 3
   },
   "file_extension": ".py",
   "mimetype": "text/x-python",
   "name": "python",
   "nbconvert_exporter": "python",
   "pygments_lexer": "ipython3",
   "version": "3.11.7"
  }
 },
 "nbformat": 4,
 "nbformat_minor": 5
}
